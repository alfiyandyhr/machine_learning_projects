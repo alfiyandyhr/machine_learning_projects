{
 "cells": [
  {
   "cell_type": "markdown",
   "id": "db388740",
   "metadata": {},
   "source": [
    "# LSTM for Time Series Prediction in PyTorch\n",
    "\n",
    "Long Short-Term Memory (LSTM) is a structure that can be used in neural network. It is a type of recurrent neural network (RNN) that expects the input in the form of sequence features. It is useful for data such as time series or string of text. In this notebook, we will learn about LSTM networks.\n",
    "\n",
    "Let's see how LSTM can be used to build a time series prediction neural network with an example. The problem we will look at in this notebook is **the international airline passengers prediction problem**. This is a problem where, given a year and month, the task is to predict the number of international airline passengers in units of 1,000. The data ranges from January 1949 to December 1960, or 12 years, with 144 observations.\n",
    "\n",
    "It is a regression problem. That is, given the number of passengers (in unit of 1,000) the recent months, what is the number of passengers the next month. The dataset has only one feature: **the number of passengers**."
   ]
  },
  {
   "cell_type": "code",
   "execution_count": 92,
   "id": "093aa51d",
   "metadata": {},
   "outputs": [],
   "source": [
    "import numpy as np\n",
    "import pandas as pd\n",
    "import torch\n",
    "import torch.nn as nn\n",
    "import torch.optim as optim\n",
    "import torch.utils.data as data\n",
    "import matplotlib.pyplot as plt"
   ]
  },
  {
   "cell_type": "code",
   "execution_count": 93,
   "id": "ca775971",
   "metadata": {},
   "outputs": [
    {
     "data": {
      "image/png": "[encoded data removed]",
      "text/plain": [
       "<Figure size 432x288 with 1 Axes>"
      ]
     },
     "metadata": {
      "needs_background": "light"
     },
     "output_type": "display_data"
    }
   ],
   "source": [
    "df = pd.read_csv('airline-passengers.csv')\n",
    "df['Passengers'].plot();"
   ]
  },
  {
   "cell_type": "markdown",
   "id": "344b1b78",
   "metadata": {},
   "source": [
    "This time series has 144 time steps. We can see from the plot that there is an upward trend. There are also some periodicity in the dataset that corresponds to the the summer holiday period in the northern hemisphere.\n",
    "\n",
    "To demonstrate the predictive power of our model, the time series is splitted into training and test sets. Time series data are splitted without shuffling. That is, the training set is the first half of time series and the remaining will be used as the test set."
   ]
  },
  {
   "cell_type": "code",
   "execution_count": 114,
   "id": "542a9d5b",
   "metadata": {},
   "outputs": [],
   "source": [
    "# Train-test split for time series (80-20)\n",
    "train_size = int(len(df) * 0.80)\n",
    "test_size = len(df) - train_size\n",
    "train_set, test_set = df[:train_size], df[train_size:]"
   ]
  },
  {
   "cell_type": "markdown",
   "id": "d082194b",
   "metadata": {},
   "source": [
    "Usually, time series prediction is done on a window. That is, given data from time `t - w` to time `t`, we are asked to predict for time `t + 1` (or deeper into the future). The size of window `w` governs how much data we are allowed to look at when we make the prediction. This is also called the **look back period**. On a long enough time series, multiple overlapping window can be created."
   ]
  },
  {
   "cell_type": "code",
   "execution_count": 95,
   "id": "e8369243",
   "metadata": {},
   "outputs": [],
   "source": [
    "def create_dataset(dataset, lookback):\n",
    "    \"\"\"\n",
    "    Transform a time series into a prediction dataset\n",
    "    \n",
    "    Args:\n",
    "        dataset: a numpy array of time series, first dimension is the time steps\n",
    "        lookback: size of window for prediction\n",
    "    \"\"\"\n",
    "    X, y = [], []\n",
    "    for i in range(len(dataset)-lookback):\n",
    "        feature = dataset['Passengers'][i:i+lookback].values.astype('float32').tolist()\n",
    "        target = dataset['Passengers'][i+1:i+1+lookback].values.astype('float32').tolist()\n",
    "        X.append(feature)\n",
    "        y.append(target)\n",
    "    return torch.tensor(X), torch.tensor(y)"
   ]
  },
  {
   "cell_type": "markdown",
   "id": "2ca73a4c",
   "metadata": {},
   "source": [
    "It is intentional to produce the \"feature\" and the \"target\" the same shape: for a window of three time steps, the \"feature\" is the time series from `t` to `t + 2` and the target is from `t + 1` to `t + 3`. What we are interested is `t + 3` but the information of `t + 1` to `t + 2` is useful in training."
   ]
  },
  {
   "cell_type": "code",
   "execution_count": 96,
   "id": "bcc2a949",
   "metadata": {},
   "outputs": [
    {
     "data": {
      "text/plain": [
       "(torch.Size([114, 1]),\n",
       " torch.Size([114, 1]),\n",
       " torch.Size([28, 1]),\n",
       " torch.Size([28, 1]))"
      ]
     },
     "execution_count": 96,
     "metadata": {},
     "output_type": "execute_result"
    }
   ],
   "source": [
    "# Let lookback = 1\n",
    "lookback = 1\n",
    "X_train, y_train = create_dataset(train_set, lookback=lookback)\n",
    "X_test, y_test = create_dataset(test_set, lookback=lookback)\n",
    "X_train.shape, y_train.shape, X_test.shape, y_test.shape"
   ]
  },
  {
   "cell_type": "markdown",
   "id": "7be8a439",
   "metadata": {},
   "source": [
    "With `lookback = 1`, it is quite surely that the accuracy would not be good for too little clues to predict. But this is a good example to demonstrate the structure of the LSTM model."
   ]
  },
  {
   "cell_type": "code",
   "execution_count": 97,
   "id": "3c7a153f",
   "metadata": {},
   "outputs": [],
   "source": [
    "class AirModel(nn.Module):\n",
    "    def __init__(self):\n",
    "        super().__init__()\n",
    "        self.lstm = nn.LSTM(input_size=1,\n",
    "                            hidden_size=50,\n",
    "                            num_layers=1,\n",
    "                            batch_first=True)\n",
    "        self.linear = nn.Linear(50, 1)\n",
    "    \n",
    "    def forward(self, x):\n",
    "        x, _ = self.lstm(x)\n",
    "        x = self.linear(x)\n",
    "        return x"
   ]
  },
  {
   "cell_type": "markdown",
   "id": "f0bec660",
   "metadata": {},
   "source": [
    "The output of `nn.LSTM()` is a tuple. The first element is the generated hidden states, one for each time step of the input. The second element is the LSTM cell's memory and hidden states, which is not used here.\n",
    "\n",
    "The LSTM layer is created with option `batch_first=True` because the tensors we prepared is in the dimension of `(window sample, features)`, and where a batch is created by sampling on the first dimension.\n",
    "\n",
    "The output of hidden states is further processed by a fully-connected layer to produce a single regression result. Since the output form LSTM is one per each input time step, we can choose to pick only the last timestep's output, which we should have:"
   ]
  },
  {
   "cell_type": "markdown",
   "id": "3cebf048",
   "metadata": {},
   "source": [
    "## Training and Verifying Our LSTM Network\n",
    "\n",
    "Since it is a regression problem, MSE is chosen as the loss function, which is to be minimized by Adam optimizer. In the code below, the PyTorch tensors are combined into a dataset using `torch.utils.data.TensorDataset()` and batch for training is provided by a `DataLoader`. The model performance is evaluated once per 100 epochs, on both the training set and the test set."
   ]
  },
  {
   "cell_type": "code",
   "execution_count": 99,
   "id": "cdc7e040",
   "metadata": {},
   "outputs": [
    {
     "name": "stdout",
     "output_type": "stream",
     "text": [
      "Epoch 0: train RMSE = 257.0605, test RMSE = 444.5079\n",
      "Epoch 100: train RMSE = 193.4525, test RMSE = 376.7245\n",
      "Epoch 200: train RMSE = 143.6472, test RMSE = 319.3890\n",
      "Epoch 300: train RMSE = 109.4663, test RMSE = 272.0765\n",
      "Epoch 400: train RMSE = 79.8610, test RMSE = 228.6111\n",
      "Epoch 500: train RMSE = 58.1332, test RMSE = 188.0096\n",
      "Epoch 600: train RMSE = 44.7028, test RMSE = 156.2572\n",
      "Epoch 700: train RMSE = 36.1337, test RMSE = 130.8378\n",
      "Epoch 800: train RMSE = 31.2459, test RMSE = 111.0024\n",
      "Epoch 900: train RMSE = 29.3654, test RMSE = 98.0877\n",
      "Epoch 1000: train RMSE = 28.8978, test RMSE = 90.6916\n",
      "Epoch 1100: train RMSE = 27.3816, test RMSE = 79.5690\n",
      "Epoch 1200: train RMSE = 26.6210, test RMSE = 73.2942\n",
      "Epoch 1300: train RMSE = 26.4778, test RMSE = 74.7586\n",
      "Epoch 1400: train RMSE = 26.1990, test RMSE = 70.3425\n",
      "Epoch 1500: train RMSE = 27.8674, test RMSE = 81.3700\n",
      "Epoch 1600: train RMSE = 27.2817, test RMSE = 71.6221\n",
      "Epoch 1700: train RMSE = 26.7987, test RMSE = 67.5507\n",
      "Epoch 1800: train RMSE = 28.1538, test RMSE = 65.9241\n",
      "Epoch 1900: train RMSE = 26.9318, test RMSE = 68.4096\n"
     ]
    }
   ],
   "source": [
    "# Define model, optimizer, loss function and loader\n",
    "model = AirModel()\n",
    "optimizer = optim.Adam(model.parameters())\n",
    "loss_fn = nn.MSELoss()\n",
    "loader = data.DataLoader(data.TensorDataset(X_train, y_train), shuffle=True, batch_size=8)\n",
    "\n",
    "n_epochs = 2000\n",
    "for epoch in range(n_epochs):\n",
    "    model.train()\n",
    "    for X_batch, y_batch in loader:\n",
    "        y_pred = model(X_batch)\n",
    "        loss = loss_fn(y_pred, y_batch)\n",
    "        optimizer.zero_grad()\n",
    "        loss.backward()\n",
    "        optimizer.step()\n",
    "    \n",
    "    # Validation\n",
    "    if epoch % 100 != 0:\n",
    "        continue\n",
    "    \n",
    "    model.eval()\n",
    "    with torch.no_grad():\n",
    "        y_pred = model(X_train)\n",
    "        train_rmse = np.sqrt(loss_fn(y_pred, y_train))\n",
    "        y_pred = model(X_test)\n",
    "        test_rmse = np.sqrt(loss_fn(y_pred, y_test))\n",
    "    print(f\"Epoch {epoch}: train RMSE = {train_rmse:.4f}, test RMSE = {test_rmse:.4f}\")    "
   ]
  },
  {
   "cell_type": "markdown",
   "id": "9d8a53ad",
   "metadata": {},
   "source": [
    "To better understand the prediction quality, we can indeed plot the output using matplotlib, as follows."
   ]
  },
  {
   "cell_type": "code",
   "execution_count": 119,
   "id": "aa6e00b0",
   "metadata": {},
   "outputs": [
    {
     "data": {
      "image/png": "[encoded data removed]",
      "text/plain": [
       "<Figure size 432x288 with 1 Axes>"
      ]
     },
     "metadata": {
      "needs_background": "light"
     },
     "output_type": "display_data"
    }
   ],
   "source": [
    "with torch.no_grad():\n",
    "    # Shift train predictions for plotting\n",
    "    train_plot = np.ones_like(df['Passengers']) * np.nan\n",
    "    train_plot[lookback:train_size] = model(X_train).view(-1)\n",
    "    # Shift test predictions for plotting\n",
    "    test_plot = np.ones_like(df['Passengers']) * np.nan\n",
    "    test_plot[train_size+lookback:len(df)] = model(X_test).view(-1)\n",
    "\n",
    "# Plotting\n",
    "plt.plot(df['Passengers'], c='C0');\n",
    "plt.plot(train_plot, c='r');\n",
    "plt.plot(test_plot, c='g');"
   ]
  },
  {
   "cell_type": "markdown",
   "id": "a7f0aadc",
   "metadata": {},
   "source": [
    "### Now, let's repeat the entire procedure above in one cell and with `lookback = 4`"
   ]
  },
  {
   "cell_type": "code",
   "execution_count": 139,
   "id": "1ad1e64e",
   "metadata": {},
   "outputs": [
    {
     "name": "stdout",
     "output_type": "stream",
     "text": [
      "Epoch 0: train RMSE = 254.5150, test RMSE = 449.3641\n",
      "Epoch 100: train RMSE = 196.6204, test RMSE = 387.6632\n",
      "Epoch 200: train RMSE = 152.4142, test RMSE = 337.5451\n",
      "Epoch 300: train RMSE = 118.8451, test RMSE = 294.3559\n",
      "Epoch 400: train RMSE = 90.9794, test RMSE = 254.3769\n",
      "Epoch 500: train RMSE = 68.7038, test RMSE = 216.9247\n",
      "Epoch 600: train RMSE = 52.6831, test RMSE = 184.7787\n",
      "Epoch 700: train RMSE = 42.2464, test RMSE = 157.7702\n",
      "Epoch 800: train RMSE = 35.3400, test RMSE = 136.2631\n",
      "Epoch 900: train RMSE = 30.8228, test RMSE = 118.5659\n",
      "Epoch 1000: train RMSE = 28.2511, test RMSE = 104.4258\n",
      "Epoch 1100: train RMSE = 26.2903, test RMSE = 94.5011\n",
      "Epoch 1200: train RMSE = 25.3212, test RMSE = 85.8805\n",
      "Epoch 1300: train RMSE = 24.1364, test RMSE = 80.9402\n",
      "Epoch 1400: train RMSE = 23.5627, test RMSE = 77.0585\n",
      "Epoch 1500: train RMSE = 23.7299, test RMSE = 74.5192\n",
      "Epoch 1600: train RMSE = 22.5895, test RMSE = 71.9926\n",
      "Epoch 1700: train RMSE = 21.9722, test RMSE = 71.3408\n",
      "Epoch 1800: train RMSE = 21.9660, test RMSE = 70.2541\n",
      "Epoch 1900: train RMSE = 21.5074, test RMSE = 69.6764\n"
     ]
    }
   ],
   "source": [
    "import numpy as np\n",
    "import pandas as pd\n",
    "import torch\n",
    "import torch.nn as nn\n",
    "import torch.optim as optim\n",
    "import torch.utils.data as data\n",
    "import matplotlib.pyplot as plt\n",
    "\n",
    "# Read the data\n",
    "df = pd.read_csv('airline-passengers.csv')\n",
    "timeseries = df[['Passengers']].values.astype('float32')\n",
    "\n",
    "# Train-test split for time series (80-20)\n",
    "train_size = int(len(df) * 0.80)\n",
    "test_size = len(df) - train_size\n",
    "train_set = timeseries[:train_size]\n",
    "test_set = timeseries[train_size:]\n",
    "\n",
    "def create_dataset(dataset, lookback):\n",
    "    \"\"\"\n",
    "    Transform a time series into a prediction dataset\n",
    "    \n",
    "    Args:\n",
    "        dataset: a numpy array of time series, first dimension is the time steps\n",
    "        lookback: size of window for prediction\n",
    "    \"\"\"\n",
    "    X, y = [], []\n",
    "    for i in range(len(dataset)-lookback):\n",
    "        feature = dataset[i:i+lookback]\n",
    "        target = dataset[i+1:i+1+lookback]\n",
    "        X.append(feature)\n",
    "        y.append(target)\n",
    "    return torch.tensor(X), torch.tensor(y)\n",
    "\n",
    "# Creating pair of datasets with lookback = 4\n",
    "lookback = 4\n",
    "X_train, y_train = create_dataset(train_set, lookback=lookback)\n",
    "X_test, y_test = create_dataset(test_set, lookback=lookback)\n",
    "\n",
    "class AirModel(nn.Module):\n",
    "    def __init__(self):\n",
    "        super().__init__()\n",
    "        self.lstm = nn.LSTM(input_size=1,\n",
    "                            hidden_size=50,\n",
    "                            num_layers=1,\n",
    "                            batch_first=True)\n",
    "        self.linear = nn.Linear(50, 1)\n",
    "    \n",
    "    def forward(self, x):\n",
    "        x, _ = self.lstm(x)\n",
    "        x = self.linear(x)\n",
    "        return x\n",
    "\n",
    "# Define model, optimizer, loss function and loader\n",
    "model = AirModel()\n",
    "optimizer = optim.Adam(model.parameters())\n",
    "loss_fn = nn.MSELoss()\n",
    "loader = data.DataLoader(data.TensorDataset(X_train, y_train), shuffle=True, batch_size=8)\n",
    "\n",
    "# Training\n",
    "n_epochs = 2000\n",
    "for epoch in range(n_epochs):\n",
    "    model.train()\n",
    "    for X_batch, y_batch in loader:\n",
    "        y_pred = model(X_batch)\n",
    "        loss = loss_fn(y_pred, y_batch)\n",
    "        optimizer.zero_grad()\n",
    "        loss.backward()\n",
    "        optimizer.step()\n",
    "    \n",
    "    # Validation\n",
    "    if epoch % 100 != 0:\n",
    "        continue\n",
    "    \n",
    "    model.eval()\n",
    "    with torch.no_grad():\n",
    "        y_pred = model(X_train)\n",
    "        train_rmse = np.sqrt(loss_fn(y_pred, y_train))\n",
    "        y_pred = model(X_test)\n",
    "        test_rmse = np.sqrt(loss_fn(y_pred, y_test))\n",
    "    print(f\"Epoch {epoch}: train RMSE = {train_rmse:.4f}, test RMSE = {test_rmse:.4f}\")    "
   ]
  },
  {
   "cell_type": "code",
   "execution_count": 143,
   "id": "ac08393c",
   "metadata": {},
   "outputs": [
    {
     "data": {
      "image/png": "[encoded data removed]",
      "text/plain": [
       "<Figure size 432x288 with 1 Axes>"
      ]
     },
     "metadata": {
      "needs_background": "light"
     },
     "output_type": "display_data"
    }
   ],
   "source": [
    "with torch.no_grad():\n",
    "    # Shift train predictions for plotting\n",
    "    train_plot = np.ones_like(timeseries) * np.nan\n",
    "    train_plot[lookback:train_size] = model(X_train)[:, -1, :]\n",
    "    # Shift test predictions for plotting\n",
    "    test_plot = np.ones_like(timeseries) * np.nan\n",
    "    test_plot[train_size+lookback:len(df)] = model(X_test)[:, -1, :]\n",
    "\n",
    "# Plotting\n",
    "plt.plot(df['Passengers'], c='C0');\n",
    "plt.plot(train_plot, c='r');\n",
    "plt.plot(test_plot, c='g');"
   ]
  },
  {
   "cell_type": "markdown",
   "id": "3d566777",
   "metadata": {},
   "source": [
    "**The End.**"
   ]
  }
 ],
 "metadata": {
  "kernelspec": {
   "display_name": "Python 3 (ipykernel)",
   "language": "python",
   "name": "python3"
  },
  "language_info": {
   "codemirror_mode": {
    "name": "ipython",
    "version": 3
   },
   "file_extension": ".py",
   "mimetype": "text/x-python",
   "name": "python",
   "nbconvert_exporter": "python",
   "pygments_lexer": "ipython3",
   "version": "3.9.12"
  }
 },
 "nbformat": 4,
 "nbformat_minor": 5
}
